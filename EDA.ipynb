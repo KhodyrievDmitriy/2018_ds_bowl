{
  "nbformat": 4,
  "nbformat_minor": 0,
  "metadata": {
    "colab": {
      "name": "EDA.ipynb",
      "provenance": [],
      "collapsed_sections": []
    },
    "kernelspec": {
      "name": "python3",
      "display_name": "Python 3"
    }
  },
  "cells": [
    {
      "cell_type": "code",
      "metadata": {
        "id": "p072fh_cG2JS",
        "colab_type": "code",
        "colab": {}
      },
      "source": [
        "# Reference-link https://www.kaggle.com/pudae81/data-visualization-and-analysis"
      ],
      "execution_count": 0,
      "outputs": []
    },
    {
      "cell_type": "code",
      "metadata": {
        "id": "f57TBP3aG8QC",
        "colab_type": "code",
        "colab": {}
      },
      "source": [
        "import os\n",
        "import numpy as np # linear algebra\n",
        "import pandas as pd # data processing, CSV file I/O (e.g. pd.read_csv)\n",
        "import matplotlib.pyplot as plt\n",
        "import skimage.io\n",
        "import seaborn as sns\n",
        "from subprocess import check_output"
      ],
      "execution_count": 0,
      "outputs": []
    },
    {
      "cell_type": "code",
      "metadata": {
        "id": "6lTseMw3G8X3",
        "colab_type": "code",
        "colab": {}
      },
      "source": [
        "input_dir = '../content'\n",
        "train_dir = '../content/stage1_train/'"
      ],
      "execution_count": 0,
      "outputs": []
    },
    {
      "cell_type": "code",
      "metadata": {
        "id": "jqq75ZF7G8V4",
        "colab_type": "code",
        "colab": {}
      },
      "source": [
        "df_labels = pd.read_csv(os.path.join(input_dir, 'stage1_train_labels.csv'))"
      ],
      "execution_count": 0,
      "outputs": []
    },
    {
      "cell_type": "code",
      "metadata": {
        "id": "w3pUUrOlG8Ne",
        "colab_type": "code",
        "colab": {}
      },
      "source": [
        "def show_images(image_ids):\n",
        "  plt.close('all')\n",
        "  fig, ax = plt.subplots(nrows=len(image_ids),ncols=3, figsize=(50,50))\n",
        "\n",
        "  for image_idx, image_id in enumerate(image_ids):\n",
        "    image_path = os.path.join(train_dir, image_id, 'images', '{}.png'.format(image_id))\n",
        "    mask_paths = os.path.join(train_dir, image_id, 'masks', '*.png')\n",
        "  \n",
        "    image = skimage.io.imread(image_path)\n",
        "    masks = skimage.io.imread_collection(mask_paths).concatenate()\n",
        "    mask = np.zeros(image.shape[:2], np.uint16)\n",
        "    for mask_idx in range(masks.shape[0]):\n",
        "      mask[masks[mask_idx] > 0] = mask_idx + 1\n",
        "    other = mask == 0\n",
        "    \n",
        "    if len(image_ids) > 1:\n",
        "      ax[image_idx, 0].imshow(image)\n",
        "      ax[image_idx, 1].imshow(mask)\n",
        "      ax[image_idx, 2].imshow(np.expand_dims(other, axis=2) * image)\n",
        "    else:\n",
        "      ax[0].imshow(image)\n",
        "      ax[1].imshow(mask)\n",
        "      ax[2].imshow(np.expand_dims(other, axis=2) * image)"
      ],
      "execution_count": 0,
      "outputs": []
    },
    {
      "cell_type": "code",
      "metadata": {
        "id": "aHwZmCDoG8LQ",
        "colab_type": "code",
        "colab": {}
      },
      "source": [
        "def get_nuclei_sizes():\n",
        "  image_ids = list(df_labels.drop_duplicates(subset='ImageId')['ImageId'])\n",
        "  def nuclei_size_stats(image_id):\n",
        "    mask_paths = os.path.join(train_dir, image_id, 'masks', '*.png')\n",
        "    masks = skimage.io.imread_collection(mask_paths).concatenate()\n",
        "    masks = (masks > 0).astype(np.uint16)\n",
        "    nuclei_sizes = np.sum(masks, axis=(1,2))\n",
        "    return {'nuclei_size_min': np.min(nuclei_sizes),\n",
        "            'nuclei_size_max': np.max(nuclei_sizes),\n",
        "            'nuclei_size_mean': np.mean(nuclei_sizes),\n",
        "            'nuclei_size_std': np.std(nuclei_sizes)}\n",
        "  return pd.DataFrame.from_dict({image_id: nuclei_size_stats(image_id) for image_id in image_ids}, orient='index')"
      ],
      "execution_count": 0,
      "outputs": []
    },
    {
      "cell_type": "code",
      "metadata": {
        "id": "f7ywem7bG8J2",
        "colab_type": "code",
        "colab": {}
      },
      "source": [
        "df_nuclei_sizes = get_nuclei_sizes()"
      ],
      "execution_count": 0,
      "outputs": []
    },
    {
      "cell_type": "code",
      "metadata": {
        "id": "6y9CRwi-G8H2",
        "colab_type": "code",
        "colab": {}
      },
      "source": [
        "def plot_stats(df):\n",
        "  fig, axs = plt.subplots(nrows=3, ncols=2, figsize=(64,64))\n",
        "  def plot_with_set_font_size(key, ax):\n",
        "    p = sns.distplot(df_stats[key], kde=False, rug=False, ax=ax)\n",
        "    p.tick_params(labelsize=50)\n",
        "    p.set_xlabel(key, fontsize=50)\n",
        "  \n",
        "  plot_with_set_font_size('mask_counts', axs[0,0])\n",
        "  plot_with_set_font_size('nuclei_size_min', axs[1,0])\n",
        "  plot_with_set_font_size('nuclei_size_max', axs[1,1])\n",
        "  plot_with_set_font_size('nuclei_size_mean', axs[2,0])\n",
        "  plot_with_set_font_size('nuclei_size_std', axs[2,1])"
      ],
      "execution_count": 0,
      "outputs": []
    },
    {
      "cell_type": "code",
      "metadata": {
        "id": "noXv70ymG8EX",
        "colab_type": "code",
        "colab": {}
      },
      "source": [
        "df_mask_counts = df_labels.groupby(['ImageId']).count()\n",
        "df_mask_counts.columns = ['mask_counts']\n",
        "df_stats = df_mask_counts.join(df_nuclei_sizes)"
      ],
      "execution_count": 0,
      "outputs": []
    },
    {
      "cell_type": "code",
      "metadata": {
        "id": "69VXQ9MrHCri",
        "colab_type": "code",
        "colab": {}
      },
      "source": [
        "display(df_stats.describe())\n",
        "plot_stats(df_stats)"
      ],
      "execution_count": 0,
      "outputs": []
    },
    {
      "cell_type": "code",
      "metadata": {
        "id": "vXwhrZ5cHCw5",
        "colab_type": "code",
        "colab": {}
      },
      "source": [
        "lower_percentile_stats = df_stats.query('mask_counts < 15.25')\n",
        "display(lower_percentile_stats.describe())\n",
        "plot_stats(lower_percentile_stats)"
      ],
      "execution_count": 0,
      "outputs": []
    },
    {
      "cell_type": "code",
      "metadata": {
        "id": "X9-fvdrMHC0m",
        "colab_type": "code",
        "colab": {}
      },
      "source": [
        "samples = lower_percentile_stats.sample(n=5)\n",
        "display(samples)\n",
        "show_images(list(samples.index))"
      ],
      "execution_count": 0,
      "outputs": []
    },
    {
      "cell_type": "code",
      "metadata": {
        "id": "idz0bHVuHCu0",
        "colab_type": "code",
        "colab": {}
      },
      "source": [
        "middle_percentile_stats = df_stats.query('mask_counts > 15.25 and mask_counts < 54.0')\n",
        "display(middle_percentile_stats.describe())\n",
        "plot_stats(middle_percentile_stats)"
      ],
      "execution_count": 0,
      "outputs": []
    },
    {
      "cell_type": "code",
      "metadata": {
        "id": "eEUfuYGiHCpY",
        "colab_type": "code",
        "colab": {}
      },
      "source": [
        "samples = middle_percentile_stats.sample(n=5)\n",
        "display(samples)\n",
        "show_images(list(samples.index))"
      ],
      "execution_count": 0,
      "outputs": []
    },
    {
      "cell_type": "code",
      "metadata": {
        "id": "58ihZl4WHCmf",
        "colab_type": "code",
        "colab": {}
      },
      "source": [
        "upper_percentile_stats = df_stats.query('mask_counts > 54.0')\n",
        "display(upper_percentile_stats.describe())\n",
        "plot_stats(upper_percentile_stats)"
      ],
      "execution_count": 0,
      "outputs": []
    },
    {
      "cell_type": "code",
      "metadata": {
        "id": "pc4RHHHkHhsU",
        "colab_type": "code",
        "colab": {}
      },
      "source": [
        "samples = upper_percentile_stats.sample(n=5)\n",
        "display(samples)\n",
        "show_images(list(samples.index))"
      ],
      "execution_count": 0,
      "outputs": []
    }
  ]
}